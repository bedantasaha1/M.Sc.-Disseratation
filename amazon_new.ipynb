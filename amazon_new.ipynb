{
 "cells": [
  {
   "cell_type": "code",
   "execution_count": 1,
   "metadata": {},
   "outputs": [],
   "source": [
    "from tensorflow.keras.preprocessing import sequence\n",
    "from tensorflow.keras.models import Sequential\n",
    "from tensorflow.keras.layers import Dense, Dropout, Activation\n",
    "from tensorflow.keras.layers import Embedding, LSTM\n",
    "from tensorflow.keras.layers import Conv1D, Flatten, MaxPooling1D\n",
    "from tensorflow.keras.datasets import imdb\n",
    "#import wandb\n",
    "#from wandb.keras import WandbCallback\n",
    "import imdb\n",
    "import numpy as np\n",
    "from tensorflow.keras.preprocessing import text\n",
    "#!pip install -q tf-nightly-2.0-preview\n",
    "#%load_ext tensorboard"
   ]
  },
  {
   "cell_type": "code",
   "execution_count": 2,
   "metadata": {},
   "outputs": [],
   "source": [
    "import json"
   ]
  },
  {
   "cell_type": "code",
   "execution_count": 27,
   "metadata": {},
   "outputs": [
    {
     "name": "stdout",
     "output_type": "stream",
     "text": [
      "TensorFlow version:  2.0.0-dev20190818\n"
     ]
    }
   ],
   "source": [
    "#from __future__ import absolute_import\n",
    "#from __future__ import division\n",
    "#from __future__ import print_function\n",
    "\n",
    "#from datetime import datetime\n",
    "#from packaging import version\n",
    "\n",
    "#import tensorflow as tf\n",
    "#from tensorflow import keras\n",
    "\n",
    "#print(\"TensorFlow version: \", tf.__version__)\n",
    "#assert version.parse(tf.__version__).release[0] >= 2, \\\n",
    "   # \"This notebook requires TensorFlow 2.0 or above.\""
   ]
  },
  {
   "cell_type": "code",
   "execution_count": 3,
   "metadata": {},
   "outputs": [],
   "source": [
    "with open('Electronics_5.json') as f:\n",
    "    data = [json.loads(line) for line in f]"
   ]
  },
  {
   "cell_type": "code",
   "execution_count": 4,
   "metadata": {},
   "outputs": [
    {
     "name": "stderr",
     "output_type": "stream",
     "text": [
      "'rm' is not recognized as an internal or external command,\n",
      "operable program or batch file.\n"
     ]
    }
   ],
   "source": [
    "#!rm -rf ./logs/ "
   ]
  },
  {
   "cell_type": "code",
   "execution_count": 4,
   "metadata": {},
   "outputs": [
    {
     "data": {
      "text/plain": [
       "{'reviewerID': 'AO94DHGC771SJ',\n",
       " 'asin': '0528881469',\n",
       " 'reviewerName': 'amazdnu',\n",
       " 'helpful': [0, 0],\n",
       " 'reviewText': 'We got this GPS for my husband who is an (OTR) over the road trucker.  Very Impressed with the shipping time, it arrived a few days earlier than expected...  within a week of use however it started freezing up... could of just been a glitch in that unit.  Worked great when it worked!  Will work great for the normal person as well but does have the \"trucker\" option. (the big truck routes - tells you when a scale is coming up ect...)  Love the bigger screen, the ease of use, the ease of putting addresses into memory.  Nothing really bad to say about the unit with the exception of it freezing which is probably one in a million and that\\'s just my luck.  I contacted the seller and within minutes of my email I received a email back with instructions for an exchange! VERY impressed all the way around!',\n",
       " 'overall': 5.0,\n",
       " 'summary': 'Gotta have GPS!',\n",
       " 'unixReviewTime': 1370131200,\n",
       " 'reviewTime': '06 2, 2013'}"
      ]
     },
     "execution_count": 4,
     "metadata": {},
     "output_type": "execute_result"
    }
   ],
   "source": [
    "data[0]"
   ]
  },
  {
   "cell_type": "code",
   "execution_count": 5,
   "metadata": {},
   "outputs": [
    {
     "data": {
      "text/plain": [
       "1689188"
      ]
     },
     "execution_count": 5,
     "metadata": {},
     "output_type": "execute_result"
    }
   ],
   "source": [
    "len(data)"
   ]
  },
  {
   "cell_type": "code",
   "execution_count": 14,
   "metadata": {},
   "outputs": [],
   "source": [
    "list1=[]\n",
    "for i in range(1,len(data)):\n",
    "    j=data[i]['reviewText']\n",
    "    list1.append(j)"
   ]
  },
  {
   "cell_type": "code",
   "execution_count": 15,
   "metadata": {},
   "outputs": [],
   "source": [
    "list2=[]\n",
    "for i in range(1,len(data)):\n",
    "    j=data[i]['overall']\n",
    "    list1.append(j)"
   ]
  },
  {
   "cell_type": "code",
   "execution_count": 16,
   "metadata": {},
   "outputs": [],
   "source": [
    "X_train=list1[18000:19000]\n",
    "X_test=list1[18520:19020]"
   ]
  },
  {
   "cell_type": "code",
   "execution_count": 17,
   "metadata": {},
   "outputs": [],
   "source": [
    "list2=[]\n",
    "for i in range(0,len(data)):\n",
    "    if data[i]['overall']>=4:\n",
    "        j=1\n",
    "    else:\n",
    "        j=0\n",
    "    list2.append(j)"
   ]
  },
  {
   "cell_type": "code",
   "execution_count": 18,
   "metadata": {},
   "outputs": [
    {
     "data": {
      "text/plain": [
       "str"
      ]
     },
     "execution_count": 18,
     "metadata": {},
     "output_type": "execute_result"
    }
   ],
   "source": [
    "type(list1[2])"
   ]
  },
  {
   "cell_type": "code",
   "execution_count": 19,
   "metadata": {},
   "outputs": [],
   "source": [
    "y_train=list2[18000:19000]\n",
    "y_test=list2[18520:19020]"
   ]
  },
  {
   "cell_type": "code",
   "execution_count": 20,
   "metadata": {},
   "outputs": [],
   "source": [
    "# set parameters:\n",
    "vocab_size = 1000\n",
    "maxlength = 10000\n",
    "batch_size = 30\n",
    "embedding_dims = 20\n",
    "filters = 50\n",
    "kernel_size = 3\n",
    "hidden_dims = 150\n",
    "epochs = 20"
   ]
  },
  {
   "cell_type": "code",
   "execution_count": 21,
   "metadata": {},
   "outputs": [],
   "source": [
    "tokenizer = text.Tokenizer(num_words=vocab_size)\n",
    "tokenizer.fit_on_texts(X_train)\n",
    "X_train = tokenizer.texts_to_matrix(X_train)\n",
    "X_test = tokenizer.texts_to_matrix(X_test)"
   ]
  },
  {
   "cell_type": "code",
   "execution_count": 22,
   "metadata": {},
   "outputs": [],
   "source": [
    "X_train = sequence.pad_sequences(X_train, maxlen=maxlength)\n",
    "X_test = sequence.pad_sequences(X_test, maxlen=maxlength)"
   ]
  },
  {
   "cell_type": "code",
   "execution_count": 23,
   "metadata": {},
   "outputs": [
    {
     "data": {
      "text/plain": [
       "list"
      ]
     },
     "execution_count": 23,
     "metadata": {},
     "output_type": "execute_result"
    }
   ],
   "source": [
    "type(y_train)"
   ]
  },
  {
   "cell_type": "code",
   "execution_count": 24,
   "metadata": {},
   "outputs": [],
   "source": [
    "#tf.compat.v1.get_default_graph"
   ]
  },
  {
   "cell_type": "code",
   "execution_count": 25,
   "metadata": {},
   "outputs": [],
   "source": [
    "#from keras import backend"
   ]
  },
  {
   "cell_type": "code",
   "execution_count": 26,
   "metadata": {},
   "outputs": [],
   "source": [
    "#from tensorflow.keras import backend\n",
    "#from tensorflow.python.keras import backend as K"
   ]
  },
  {
   "cell_type": "code",
   "execution_count": 27,
   "metadata": {},
   "outputs": [
    {
     "name": "stderr",
     "output_type": "stream",
     "text": [
      "WARNING: Logging before flag parsing goes to stderr.\n",
      "W0821 15:02:50.606793 48420 deprecation.py:506] From C:\\Users\\BEDANTA\\Anaconda3\\lib\\site-packages\\tensorflow\\python\\keras\\initializers.py:119: calling RandomUniform.__init__ (from tensorflow.python.ops.init_ops) with dtype is deprecated and will be removed in a future version.\n",
      "Instructions for updating:\n",
      "Call initializer instance with the dtype argument instead of passing it to the constructor\n"
     ]
    }
   ],
   "source": [
    "model = Sequential()\n",
    "model.add(Embedding(vocab_size,\n",
    "                    embedding_dims,\n",
    "                    input_length=maxlength))"
   ]
  },
  {
   "cell_type": "code",
   "execution_count": null,
   "metadata": {},
   "outputs": [],
   "source": []
  },
  {
   "cell_type": "code",
   "execution_count": 28,
   "metadata": {},
   "outputs": [
    {
     "name": "stderr",
     "output_type": "stream",
     "text": [
      "W0821 15:02:51.593664 48420 deprecation.py:506] From C:\\Users\\BEDANTA\\Anaconda3\\lib\\site-packages\\tensorflow\\python\\ops\\init_ops.py:1251: calling VarianceScaling.__init__ (from tensorflow.python.ops.init_ops) with dtype is deprecated and will be removed in a future version.\n",
      "Instructions for updating:\n",
      "Call initializer instance with the dtype argument instead of passing it to the constructor\n"
     ]
    }
   ],
   "source": [
    "model.add(Dropout(0.2))\n",
    "model.add(Conv1D(filters,\n",
    "                 kernel_size,\n",
    "                 padding='valid',\n",
    "                 activation='relu'))"
   ]
  },
  {
   "cell_type": "code",
   "execution_count": 29,
   "metadata": {},
   "outputs": [],
   "source": [
    "model.add(MaxPooling1D())\n",
    "model.add(Conv1D(filters,\n",
    "                 kernel_size,\n",
    "                 padding='valid',\n",
    "                 activation='relu'))"
   ]
  },
  {
   "cell_type": "code",
   "execution_count": 30,
   "metadata": {},
   "outputs": [],
   "source": [
    "model.add(MaxPooling1D())\n",
    "model.add(Flatten())\n",
    "model.add(Dense(hidden_dims, activation='relu'))\n",
    "model.add(Dropout(0.2))\n",
    "model.add(Dense(1, activation='sigmoid'))"
   ]
  },
  {
   "cell_type": "code",
   "execution_count": 31,
   "metadata": {},
   "outputs": [
    {
     "name": "stderr",
     "output_type": "stream",
     "text": [
      "Using TensorFlow backend.\n"
     ]
    }
   ],
   "source": [
    "from keras.optimizers import SGD"
   ]
  },
  {
   "cell_type": "code",
   "execution_count": 32,
   "metadata": {},
   "outputs": [],
   "source": [
    "#opt = SGD(lr=0.1)"
   ]
  },
  {
   "cell_type": "code",
   "execution_count": 33,
   "metadata": {},
   "outputs": [
    {
     "name": "stderr",
     "output_type": "stream",
     "text": [
      "W0821 15:03:00.401186 48420 deprecation.py:323] From C:\\Users\\BEDANTA\\Anaconda3\\lib\\site-packages\\tensorflow\\python\\ops\\nn_impl.py:180: add_dispatch_support.<locals>.wrapper (from tensorflow.python.ops.array_ops) is deprecated and will be removed in a future version.\n",
      "Instructions for updating:\n",
      "Use tf.where in 2.0, which has the same broadcast rule as np.where\n"
     ]
    }
   ],
   "source": [
    "model.compile(loss='binary_crossentropy',\n",
    "              optimizer='adam',\n",
    "              metrics=['accuracy'])"
   ]
  },
  {
   "cell_type": "code",
   "execution_count": 35,
   "metadata": {},
   "outputs": [],
   "source": [
    "# Define the Keras TensorBoard callback.\n",
    "#logdir=\"logs/fit/\" + datetime.now().strftime(\"%Y%m%d-%H%M%S\")\n",
    "#tensorboard_callback = keras.callbacks.TensorBoard(log_dir=logdir)"
   ]
  },
  {
   "cell_type": "code",
   "execution_count": 79,
   "metadata": {},
   "outputs": [],
   "source": [
    "from tensorflow.python.keras.engine import data_adapter"
   ]
  },
  {
   "cell_type": "code",
   "execution_count": 36,
   "metadata": {},
   "outputs": [
    {
     "name": "stdout",
     "output_type": "stream",
     "text": [
      "Train on 1000 samples, validate on 500 samples\n",
      "Epoch 1/20\n",
      "1000/1000 [==============================] - 43s 43ms/sample - loss: 0.5627 - acc: 0.7960 - val_loss: 0.5544 - val_acc: 0.8060\n",
      "Epoch 2/20\n",
      "1000/1000 [==============================] - 39s 39ms/sample - loss: 0.5085 - acc: 0.8060 - val_loss: 0.5859 - val_acc: 0.8060\n",
      "Epoch 3/20\n",
      "1000/1000 [==============================] - 39s 39ms/sample - loss: 0.5396 - acc: 0.8060 - val_loss: 0.5937 - val_acc: 0.8060\n",
      "Epoch 4/20\n",
      "1000/1000 [==============================] - 39s 39ms/sample - loss: 0.5089 - acc: 0.8060 - val_loss: 0.4901 - val_acc: 0.8060\n",
      "Epoch 5/20\n",
      "1000/1000 [==============================] - 39s 39ms/sample - loss: 0.4947 - acc: 0.8060 - val_loss: 0.4814 - val_acc: 0.8060\n",
      "Epoch 6/20\n",
      "1000/1000 [==============================] - 39s 39ms/sample - loss: 0.4577 - acc: 0.8010 - val_loss: 0.4542 - val_acc: 0.8060\n",
      "Epoch 7/20\n",
      "1000/1000 [==============================] - 39s 39ms/sample - loss: 0.4261 - acc: 0.8110 - val_loss: 0.4230 - val_acc: 0.8200\n",
      "Epoch 8/20\n",
      "1000/1000 [==============================] - 39s 39ms/sample - loss: 0.3826 - acc: 0.8200 - val_loss: 0.3709 - val_acc: 0.8560\n",
      "Epoch 9/20\n",
      "1000/1000 [==============================] - 40s 40ms/sample - loss: 0.3456 - acc: 0.8390 - val_loss: 0.3294 - val_acc: 0.8920\n",
      "Epoch 10/20\n",
      "1000/1000 [==============================] - 40s 40ms/sample - loss: 0.3226 - acc: 0.8510 - val_loss: 0.3028 - val_acc: 0.9200\n",
      "Epoch 11/20\n",
      "1000/1000 [==============================] - 40s 40ms/sample - loss: 0.2664 - acc: 0.8890 - val_loss: 0.2152 - val_acc: 0.9340\n",
      "Epoch 12/20\n",
      "1000/1000 [==============================] - 40s 40ms/sample - loss: 0.2055 - acc: 0.9150 - val_loss: 0.1721 - val_acc: 0.9640\n",
      "Epoch 13/20\n",
      "1000/1000 [==============================] - 40s 40ms/sample - loss: 0.1458 - acc: 0.9410 - val_loss: 0.1444 - val_acc: 0.9660\n",
      "Epoch 14/20\n",
      "1000/1000 [==============================] - 42s 42ms/sample - loss: 0.0970 - acc: 0.9630 - val_loss: 0.1237 - val_acc: 0.9720\n",
      "Epoch 15/20\n",
      "1000/1000 [==============================] - 41s 41ms/sample - loss: 0.0608 - acc: 0.9840 - val_loss: 0.1232 - val_acc: 0.9800\n",
      "Epoch 16/20\n",
      "1000/1000 [==============================] - 44s 44ms/sample - loss: 0.0577 - acc: 0.9780 - val_loss: 0.1238 - val_acc: 0.9800\n",
      "Epoch 17/20\n",
      "1000/1000 [==============================] - 50s 50ms/sample - loss: 0.0423 - acc: 0.9820 - val_loss: 0.1240 - val_acc: 0.9820\n",
      "Epoch 18/20\n",
      "1000/1000 [==============================] - 44s 44ms/sample - loss: 0.0302 - acc: 0.9900 - val_loss: 0.1426 - val_acc: 0.9840\n",
      "Epoch 19/20\n",
      "1000/1000 [==============================] - 43s 43ms/sample - loss: 0.0245 - acc: 0.9930 - val_loss: 0.1583 - val_acc: 0.9820\n",
      "Epoch 20/20\n",
      "1000/1000 [==============================] - 42s 42ms/sample - loss: 0.0266 - acc: 0.9910 - val_loss: 0.1533 - val_acc: 0.9820\n"
     ]
    }
   ],
   "source": [
    "history=model.fit(X_train, y_train,\n",
    "          batch_size=batch_size,\n",
    "          epochs=epochs,\n",
    "          validation_data=(X_test, y_test))"
   ]
  },
  {
   "cell_type": "code",
   "execution_count": 37,
   "metadata": {},
   "outputs": [],
   "source": [
    "import matplotlib.pyplot as plt"
   ]
  },
  {
   "cell_type": "code",
   "execution_count": 38,
   "metadata": {},
   "outputs": [
    {
     "name": "stdout",
     "output_type": "stream",
     "text": [
      "dict_keys(['loss', 'acc', 'val_loss', 'val_acc'])\n"
     ]
    }
   ],
   "source": [
    "print(history.history.keys())"
   ]
  },
  {
   "cell_type": "code",
   "execution_count": 39,
   "metadata": {},
   "outputs": [
    {
     "data": {
      "image/png": "[encoded data removed]",
      "text/plain": [
       "<Figure size 432x288 with 1 Axes>"
      ]
     },
     "metadata": {
      "needs_background": "light"
     },
     "output_type": "display_data"
    }
   ],
   "source": [
    "#plt.xlim([0.2,0.9])\n",
    "plt.plot(history.history['acc'])\n",
    "plt.plot(history.history['val_acc'])\n",
    "axes=plt.gca()\n",
    "#axes.set_xlim([xmin,xmax])\n",
    "axes.set_ylim([.5,1])\n",
    "plt.title('RNN model accuracy for same catgorical data')\n",
    "plt.ylabel('accuracy')\n",
    "plt.xlabel('epoch')\n",
    "plt.legend(['training accuracy', 'validation accuracy'], loc='upper left')\n",
    "plt.show()"
   ]
  },
  {
   "cell_type": "code",
   "execution_count": 40,
   "metadata": {},
   "outputs": [
    {
     "data": {
      "image/png": "[encoded data removed]",
      "text/plain": [
       "<Figure size 432x288 with 1 Axes>"
      ]
     },
     "metadata": {
      "needs_background": "light"
     },
     "output_type": "display_data"
    }
   ],
   "source": [
    "plt.plot(history.history['loss'])\n",
    "plt.plot(history.history['val_loss'])\n",
    "#axes=plt.gca()\n",
    "#axes.set_xlim([xmin,xmax])\n",
    "#axes.set_ylim([.5,1])\n",
    "plt.title('RNN model loss for same catgorical data')\n",
    "plt.ylabel('loss')\n",
    "plt.xlabel('epoch')\n",
    "plt.legend(['training loss', 'validation'], loc='upper left')\n",
    "plt.show()"
   ]
  },
  {
   "cell_type": "code",
   "execution_count": 36,
   "metadata": {},
   "outputs": [
    {
     "data": {
      "text/plain": [
       "(0.5, 1)"
      ]
     },
     "execution_count": 36,
     "metadata": {},
     "output_type": "execute_result"
    },
    {
     "data": {
      "image/png": "[encoded data removed]",
      "text/plain": [
       "<Figure size 432x288 with 1 Axes>"
      ]
     },
     "metadata": {},
     "output_type": "display_data"
    }
   ],
   "source": [
    "axes=plt.gca()\n",
    "#axes.set_xlim([xmin,xmax])\n",
    "axes.set_ylim([.5,1])"
   ]
  },
  {
   "cell_type": "code",
   "execution_count": 40,
   "metadata": {},
   "outputs": [],
   "source": [
    "predict= model.predict(X_test)"
   ]
  },
  {
   "cell_type": "code",
   "execution_count": 71,
   "metadata": {},
   "outputs": [
    {
     "data": {
      "text/plain": [
       "\"A 4.5 star rating for these phones is a crime; it had me expecting more and I was disappointed.  Ultimately, these aren't bad for $6.19, but the Panasonic RPHJE120P's are better at the same price.The iLuv &#34;ultra bass&#34; sounds good but not exactly natural; nowhere near as clean as a cheap pair of over-ear phones.The body of these iLuvs are huge, and you can feel them in your ears the entire time you're wearing them.  If you're lucky, you won't get a headache!I also own the Panasonic RPHJE120G's, which are my everyday phones.  They sound clean and natural, and fit perfectly.  They're light and comfortable enough to wear all day long.\""
      ]
     },
     "execution_count": 71,
     "metadata": {},
     "output_type": "execute_result"
    }
   ],
   "source": [
    "list1[1000026]"
   ]
  },
  {
   "cell_type": "code",
   "execution_count": 72,
   "metadata": {},
   "outputs": [
    {
     "data": {
      "text/plain": [
       "array([0.79209447], dtype=float32)"
      ]
     },
     "execution_count": 72,
     "metadata": {},
     "output_type": "execute_result"
    }
   ],
   "source": [
    "predict[26]"
   ]
  },
  {
   "cell_type": "code",
   "execution_count": 60,
   "metadata": {},
   "outputs": [
    {
     "data": {
      "text/plain": [
       "1"
      ]
     },
     "execution_count": 60,
     "metadata": {},
     "output_type": "execute_result"
    }
   ],
   "source": [
    "y_test[3]"
   ]
  },
  {
   "cell_type": "code",
   "execution_count": 30,
   "metadata": {},
   "outputs": [
    {
     "name": "stdout",
     "output_type": "stream",
     "text": [
      "13714\n"
     ]
    }
   ],
   "source": [
    "#number of negative\n",
    "j=0\n",
    "for i in y_test:\n",
    "    if i<1:\n",
    "        j=j+1\n",
    "print(j)"
   ]
  },
  {
   "cell_type": "code",
   "execution_count": 31,
   "metadata": {},
   "outputs": [
    {
     "name": "stdout",
     "output_type": "stream",
     "text": [
      "19557\n"
     ]
    }
   ],
   "source": [
    "#number of negative\n",
    "j=0\n",
    "for i in predict:\n",
    "    if i<0.7832:\n",
    "        j=j+1\n",
    "print(j)"
   ]
  },
  {
   "cell_type": "code",
   "execution_count": 65,
   "metadata": {},
   "outputs": [
    {
     "data": {
      "text/plain": [
       "{'reviewerID': 'A1DV7ZGBNFX0Q3',\n",
       " 'asin': 'B000243DOE',\n",
       " 'reviewerName': 'Zelda',\n",
       " 'helpful': [1, 1],\n",
       " 'reviewText': \"The price and some positive reviews led me to purchase this item, but after only about 1,000 pictures, all I got was corrupted data.  I had the card professionally tested to ensure it was the card and nothing wrong with my camera.  It definitely showed the card was the problem.  Luckily, I had recently done a download.  Won't trust my pictures to this brand again!\",\n",
       " 'overall': 1.0,\n",
       " 'summary': 'Stopped working after 1,500 pictures!!!!',\n",
       " 'unixReviewTime': 1172534400,\n",
       " 'reviewTime': '02 27, 2007'}"
      ]
     },
     "execution_count": 65,
     "metadata": {},
     "output_type": "execute_result"
    }
   ],
   "source": [
    "data[100004]"
   ]
  },
  {
   "cell_type": "code",
   "execution_count": null,
   "metadata": {},
   "outputs": [],
   "source": []
  }
 ],
 "metadata": {
  "kernelspec": {
   "display_name": "Python 3",
   "language": "python",
   "name": "python3"
  },
  "language_info": {
   "codemirror_mode": {
    "name": "ipython",
    "version": 3
   },
   "file_extension": ".py",
   "mimetype": "text/x-python",
   "name": "python",
   "nbconvert_exporter": "python",
   "pygments_lexer": "ipython3",
   "version": "3.6.9"
  }
 },
 "nbformat": 4,
 "nbformat_minor": 2
}
